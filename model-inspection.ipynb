{
 "cells": [
  {
   "cell_type": "code",
   "execution_count": 3,
   "metadata": {},
   "outputs": [],
   "source": [
    "import torch\n",
    "\n",
    "from quiet_star.config import Config, ModelConfig\n",
    "from quiet_star.torch.pretrained import PretrainedThoughtModel"
   ]
  },
  {
   "cell_type": "code",
   "execution_count": 9,
   "metadata": {},
   "outputs": [
    {
     "name": "stderr",
     "output_type": "stream",
     "text": [
      "Special tokens have been added in the vocabulary, make sure the associated word embeddings are fine-tuned or trained.\n"
     ]
    },
    {
     "name": "stdout",
     "output_type": "stream",
     "text": [
      "number of parameters: 468.19M\n"
     ]
    },
    {
     "data": {
      "text/plain": [
       "PretrainedThoughtModel(\n",
       "  (model): Qwen2ForCausalLM(\n",
       "    (model): Qwen2Model(\n",
       "      (embed_tokens): Embedding(151936, 1024)\n",
       "      (layers): ModuleList(\n",
       "        (0-23): 24 x Qwen2DecoderLayer(\n",
       "          (self_attn): Qwen2SdpaAttention(\n",
       "            (q_proj): Linear(in_features=1024, out_features=1024, bias=True)\n",
       "            (k_proj): Linear(in_features=1024, out_features=1024, bias=True)\n",
       "            (v_proj): Linear(in_features=1024, out_features=1024, bias=True)\n",
       "            (o_proj): Linear(in_features=1024, out_features=1024, bias=False)\n",
       "            (rotary_emb): Qwen2RotaryEmbedding()\n",
       "          )\n",
       "          (mlp): Qwen2MLP(\n",
       "            (gate_proj): Linear(in_features=1024, out_features=2816, bias=False)\n",
       "            (up_proj): Linear(in_features=1024, out_features=2816, bias=False)\n",
       "            (down_proj): Linear(in_features=2816, out_features=1024, bias=False)\n",
       "            (act_fn): SiLU()\n",
       "          )\n",
       "          (input_layernorm): Qwen2RMSNorm()\n",
       "          (post_attention_layernorm): Qwen2RMSNorm()\n",
       "        )\n",
       "      )\n",
       "      (norm): Qwen2RMSNorm()\n",
       "    )\n",
       "    (lm_head): Linear(in_features=1024, out_features=151936, bias=False)\n",
       "  )\n",
       "  (tok_emb): Embedding(151936, 1024)\n",
       "  (layers): ModuleList(\n",
       "    (0-23): 24 x Qwen2DecoderLayer(\n",
       "      (self_attn): Qwen2SdpaAttention(\n",
       "        (q_proj): Linear(in_features=1024, out_features=1024, bias=True)\n",
       "        (k_proj): Linear(in_features=1024, out_features=1024, bias=True)\n",
       "        (v_proj): Linear(in_features=1024, out_features=1024, bias=True)\n",
       "        (o_proj): Linear(in_features=1024, out_features=1024, bias=False)\n",
       "        (rotary_emb): Qwen2RotaryEmbedding()\n",
       "      )\n",
       "      (mlp): Qwen2MLP(\n",
       "        (gate_proj): Linear(in_features=1024, out_features=2816, bias=False)\n",
       "        (up_proj): Linear(in_features=1024, out_features=2816, bias=False)\n",
       "        (down_proj): Linear(in_features=2816, out_features=1024, bias=False)\n",
       "        (act_fn): SiLU()\n",
       "      )\n",
       "      (input_layernorm): Qwen2RMSNorm()\n",
       "      (post_attention_layernorm): Qwen2RMSNorm()\n",
       "    )\n",
       "  )\n",
       "  (ln): Qwen2RMSNorm()\n",
       "  (lm_head): Linear(in_features=1024, out_features=151936, bias=False)\n",
       "  (mixing_mlp): Sequential(\n",
       "    (0): Linear(in_features=2048, out_features=2048, bias=True)\n",
       "    (1): ReLU()\n",
       "    (2): Linear(in_features=2048, out_features=1, bias=True)\n",
       "    (3): Sigmoid()\n",
       "  )\n",
       ")"
      ]
     },
     "execution_count": 9,
     "metadata": {},
     "output_type": "execute_result"
    }
   ],
   "source": [
    "config = Config(\n",
    "    batch_size=1,\n",
    "    epochs=2,\n",
    "    lookahead_tokens=4,\n",
    "    num_thoughts=2,\n",
    "    seed=1,\n",
    "    thought_length=10,\n",
    "    model=ModelConfig(\n",
    "        attn_type=\"torch\",\n",
    "        device=torch.device(\"cuda\"),\n",
    "        dropout_attn=0.0,\n",
    "        dropout_embed=0.0,\n",
    "        dtype=\"bfloat16\",\n",
    "        embed_dim=64 * 6,\n",
    "        max_length=64,\n",
    "        model_name=\"Qwen/Qwen1.5-0.5B-Chat\",\n",
    "        num_heads=6,\n",
    "        num_layers=8,\n",
    "    ),\n",
    ")\n",
    "model = PretrainedThoughtModel.load_from_checkpoint(\n",
    "    \"lightning_logs/version_19/checkpoints/epoch=1-step=3584.ckpt\",\n",
    "    config=config,\n",
    ")\n",
    "model.eval()"
   ]
  },
  {
   "cell_type": "code",
   "execution_count": 45,
   "metadata": {},
   "outputs": [
    {
     "name": "stdout",
     "output_type": "stream",
     "text": [
      "Bayes and his Theorem My earlier post on Bayesian probability seems to have generated quite a lot of readers, so this lunchtime I thought I'd add a little bit of background. The previous discussion started from 1\n",
      "Bayes and his Theorem My earlier post on Bayesian probability seems to have generated quite a lot of readers, so this lunchtime I thought I'd add a little bit of background. The previous discussion started from <|startofthought|> Bayes, which is a probabilistic model that<|endofthought|>ens\n"
     ]
    }
   ],
   "source": [
    "text = \"\"\"Bayes and his Theorem My earlier post on Bayesian probability seems to have generated quite a lot of readers, so this lunchtime I thought I'd add a little bit of background. The previous discussion started from \"\"\" # the result $P(B|AC) = K^{-1}P(B|C)P(A|BC) = K^{-1} P(AB|C)$ where $K=P(\"\"\"\n",
    "\n",
    "x = model.tokenizer(\n",
    "    text,\n",
    "    padding=\"do_not_pad\",\n",
    "    truncation=True,\n",
    "    max_length=63,\n",
    "    return_tensors=\"pt\",\n",
    "    return_attention_mask=False,\n",
    ")[\"input_ids\"][0].tolist()\n",
    "x.append(model.start_thought_token_id)\n",
    "x = torch.tensor([x], dtype=torch.int64, device=torch.device(\"cuda\"))\n",
    "\n",
    "xp = x[:, :-1]\n",
    "logits = model(xp)\n",
    "next_id = model.sample_next_tokens(logits, temp=0.1)[0, -1]\n",
    "xp = torch.tensor([xp.tolist()[0] + [next_id]], dtype=torch.int64, device=torch.device(\"cuda\"))\n",
    "\n",
    "print(model.tokenizer.decode(xp[0]))\n",
    "\n",
    "for _ in range(10):\n",
    "    logits = model(x)\n",
    "    next_id = model.sample_next_tokens(logits, temp=0.1)[0, -1]\n",
    "    x = torch.tensor([x.tolist()[0] + [next_id]], dtype=torch.int64, device=torch.device(\"cuda\"))\n",
    "\n",
    "x = torch.tensor([x.tolist()[0] + [model.end_thought_token_id]], dtype=torch.int64, device=torch.device(\"cuda\"))\n",
    "logits = model(x)\n",
    "next_id = model.sample_next_tokens(logits, temp=0.1)[0, -1]\n",
    "x = torch.tensor([x.tolist()[0] + [next_id]], dtype=torch.int64, device=torch.device(\"cuda\"))\n",
    "\n",
    "print(model.tokenizer.decode(x[0]))\n"
   ]
  },
  {
   "cell_type": "code",
   "execution_count": 31,
   "metadata": {},
   "outputs": [
    {
     "data": {
      "text/plain": [
       "' Bay'"
      ]
     },
     "execution_count": 31,
     "metadata": {},
     "output_type": "execute_result"
    }
   ],
   "source": [
    "y = model.sample_next_tokens(logits, temp=0.01)\n",
    "next_token = model.tokenizer.decode(y[0, -1])\n",
    "\n",
    "new_text = text + next_token"
   ]
  },
  {
   "cell_type": "code",
   "execution_count": null,
   "metadata": {},
   "outputs": [],
   "source": []
  }
 ],
 "metadata": {
  "kernelspec": {
   "display_name": ".venv",
   "language": "python",
   "name": "python3"
  },
  "language_info": {
   "codemirror_mode": {
    "name": "ipython",
    "version": 3
   },
   "file_extension": ".py",
   "mimetype": "text/x-python",
   "name": "python",
   "nbconvert_exporter": "python",
   "pygments_lexer": "ipython3",
   "version": "3.10.12"
  }
 },
 "nbformat": 4,
 "nbformat_minor": 2
}
